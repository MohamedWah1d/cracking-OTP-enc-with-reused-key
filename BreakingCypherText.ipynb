{
 "cells": [
  {
   "cell_type": "markdown",
   "id": "bf727b69",
   "metadata": {},
   "source": [
    "# One time pad with the same key problem"
   ]
  },
  {
   "cell_type": "markdown",
   "id": "1b42d785",
   "metadata": {},
   "source": [
    "### The cyphers to be broken:"
   ]
  },
  {
   "cell_type": "markdown",
   "id": "3fef6e52",
   "metadata": {},
   "source": [
    "A84537EC762D276D2804F0051C76FBB61DA962A904055BCF56D2E08BA3\n",
    "\n",
    "BF4334AA672868223800E103066AA8F709AF6FEC0E105CCB52D4E691BE\n",
    "\n",
    "B85530EE332C62612B13E7570A77ECFF12BC27EE150D51CD5FC9E19BA3\n",
    "\n",
    "A45527EF617F75672B12E7570676EDB608B26AEC401454CC13CBEA87A3\n",
    "\n",
    "BF4035EB673A277B3114F0571A61FBE219B674A9120152DD5FC1FD92A9\n",
    "\n",
    "A31022E272336B222913EB030C38FBF31FAE75EC40175ACE47D7EE8CB5"
   ]
  },
  {
   "cell_type": "code",
   "execution_count": 1,
   "id": "2bd71a1c",
   "metadata": {},
   "outputs": [],
   "source": [
    "#for helping in computations.\n",
    "import numpy as np"
   ]
  },
  {
   "cell_type": "code",
   "execution_count": 2,
   "id": "18cadef3",
   "metadata": {},
   "outputs": [],
   "source": [
    "#The numpy array that will contain the cypher texts.\n",
    "c = np.array(['A84537EC762D276D2804F0051C76FBB61DA962A904055BCF56D2E08BA3',\n",
    "              'BF4334AA672868223800E103066AA8F709AF6FEC0E105CCB52D4E691BE',\n",
    "              'B85530EE332C62612B13E7570A77ECFF12BC27EE150D51CD5FC9E19BA3',\n",
    "              'A45527EF617F75672B12E7570676EDB608B26AEC401454CC13CBEA87A3',\n",
    "              'BF4035EB673A277B3114F0571A61FBE219B674A9120152DD5FC1FD92A9',\n",
    "              'A31022E272336B222913EB030C38FBF31FAE75EC40175ACE47D7EE8CB5'])"
   ]
  },
  {
   "cell_type": "code",
   "execution_count": 3,
   "id": "df16fa69",
   "metadata": {},
   "outputs": [
    {
     "data": {
      "text/plain": [
       "(6,)"
      ]
     },
     "execution_count": 3,
     "metadata": {},
     "output_type": "execute_result"
    }
   ],
   "source": [
    "#Shape of the array.\n",
    "c.shape"
   ]
  },
  {
   "cell_type": "markdown",
   "id": "2cc9cdf7",
   "metadata": {},
   "source": [
    "### Now define a function to make the XOR operation."
   ]
  },
  {
   "cell_type": "code",
   "execution_count": 95,
   "id": "68f604fe",
   "metadata": {},
   "outputs": [],
   "source": [
    "def XOR(hex1, hex2):\n",
    "    # Step 1: Convert hexadecimal strings to integers\n",
    "    int1 = int(hex1, 16)\n",
    "    int2 = int(hex2, 16)\n",
    "    \n",
    "    # Step 2: Perform the XOR operation\n",
    "    result_int = int1 ^ int2\n",
    "    \n",
    "    # Step 3: Convert the result back to hexadecimal\n",
    "    result_hex = format(result_int, 'X')\n",
    "    \n",
    "    return result_hex"
   ]
  },
  {
   "cell_type": "markdown",
   "id": "f2d80686",
   "metadata": {},
   "source": [
    "### Getting the spaces in the plain text first."
   ]
  },
  {
   "cell_type": "code",
   "execution_count": 6,
   "id": "b638eb2d",
   "metadata": {},
   "outputs": [],
   "source": [
    "#This function will perform the xor of each cypher text with the rest of them.\n",
    "def CalculatingXors(c, index):\n",
    "    result = np.array([])\n",
    "    \n",
    "    #Looping on the cypher texts.\n",
    "    for i in range(0, 6):\n",
    "        \n",
    "        #don't perfrom the xoring with the same cypher text.\n",
    "        if (i == index):\n",
    "            continue\n",
    "        result = np.append(result, XOR(c[index],c[i]))\n",
    "    return result"
   ]
  },
  {
   "cell_type": "markdown",
   "id": "6106bb43",
   "metadata": {},
   "source": [
    "### Getting the xor's of the cyphers."
   ]
  },
  {
   "cell_type": "code",
   "execution_count": 7,
   "id": "47188419",
   "metadata": {},
   "outputs": [],
   "source": [
    "#getting the first xor's\n",
    "c0xor = CalculatingXors(c,0)\n",
    "#adding the zeros at the first\n",
    "c0xor[2] = '0C1010031752520A031617521A001600151B084544110F0345190A0C00'\n",
    "c0xor[4] = '0B55150E041E4C4F01171B06104E0045020717454412010111050E0716'\n",
    "\n",
    "#getting the second xor's\n",
    "c1xor = CalculatingXors(c, 1)\n",
    "#adding the zeros at the first\n",
    "c1xor[1] = '0716044454040A43131306540C1D44081B1348021B1D0D060D1D070A1D'\n",
    "c1xor[3] = '0003014100124F59091411541C0B531510191B451C110E160D151B0317'\n",
    "\n",
    "#getting the third xor's\n",
    "c2xor = CalculatingXors(c,2)\n",
    "#adding the zeros at the first\n",
    "c2xor[1] = '0716044454040A43131306540C1D44081B1348021B1D0D060D1D070A1D'\n",
    "c2xor[3] = '071505055416451A1A0717001016171D0B0A5347070C031000081C090A'\n",
    "\n",
    "#getting the fourth xor's\n",
    "c3xor = CalculatingXors(c,3)\n",
    "#as the first value isn't a 0\n",
    "c3xor[0] = '0C1010031752520A031617521A001600151B084544110F0345190A0C00'\n",
    "c3xor[4] = '0745050D134C1E4502010C540A4E1645171C1F0000030E02541C040B16'\n",
    "\n",
    "#getting the fifth xor's\n",
    "c4xor = CalculatingXors(c, 4)\n",
    "#adding the zeros at the first\n",
    "c4xor[1] = '0003014100124F59091411541C0B531510191B451C110E160D151B0317'\n",
    "c4xor[2] = '071505055416451A1A0717001016171D0B0A5347070C031000081C090A'\n",
    "\n",
    "#Getting the 6th xor's\n",
    "c5xor = CalculatingXors(c, 5)\n",
    "#getting the zeros at the first\n",
    "c5xor[0] = '0B55150E041E4C4F01171B06104E0045020717454412010111050E0716'\n",
    "c5xor[3] = '0745050D134C1E4502010C540A4E1645171C1F0000030E02541C040B16'"
   ]
  },
  {
   "cell_type": "markdown",
   "id": "600910fb",
   "metadata": {},
   "source": [
    "### Doing some mappings to get the position of the spaces:"
   ]
  },
  {
   "cell_type": "code",
   "execution_count": 8,
   "id": "d4439159",
   "metadata": {},
   "outputs": [],
   "source": [
    "#This function will consider a space in the place where the third bit is a 1\n",
    "#or the first byte is a 0.\n",
    "def spacesPosition(cxor, index):\n",
    "    new_row = np.array([])\n",
    "    result = []\n",
    "    #looping through all the left rows, then inside each row.\n",
    "    for j in range(0, 5):\n",
    "        if(index == j):\n",
    "            continue\n",
    "        for i in range(0, 29):\n",
    "            if ((cxor[j][i*2] == '4') or (cxor[j][i*2] == '5') or\n",
    "                (cxor[j][i*2] == '6') or (cxor[j][i*2] == '7') or \n",
    "                (cxor[j][i*2] == 'C') or (cxor[j][i*2] == 'D') or\n",
    "                (cxor[j][i*2] == 'E') or (cxor[j][i*2] == 'F') or\n",
    "                (cxor[j][i*2] == '0')):\n",
    "                new_row = np.append(new_row, i*2)\n",
    "        result.append(new_row)\n",
    "        #To reset the new row added before the next iteration.\n",
    "        new_row = np.array([])\n",
    "    return result"
   ]
  },
  {
   "cell_type": "code",
   "execution_count": 9,
   "id": "cfeaab9a",
   "metadata": {},
   "outputs": [],
   "source": [
    "#saving the first mapings\n",
    "c0sp = spacesPosition(c0xor, 0)\n",
    "\n",
    "#saving the second mapings\n",
    "c1sp = spacesPosition(c1xor, 1)\n",
    "\n",
    "#saving the third mapings\n",
    "c2sp = spacesPosition(c2xor, 2)\n",
    "\n",
    "#saving the fourth mapings\n",
    "c3sp = spacesPosition(c3xor, 3)\n",
    "\n",
    "#saving the fifth mapings\n",
    "c4sp = spacesPosition(c4xor, 4)\n",
    "\n",
    "#saving the 6th position\n",
    "c5sp = spacesPosition(c5xor, 5)"
   ]
  },
  {
   "cell_type": "markdown",
   "id": "12aa809e",
   "metadata": {},
   "source": [
    "### Now getting the positions of the spaces."
   ]
  },
  {
   "cell_type": "code",
   "execution_count": 10,
   "id": "d3d39d2a",
   "metadata": {},
   "outputs": [],
   "source": [
    "#This function will return the spaces positions\n",
    "def spaces(csp):\n",
    "    #Initializing the spaces array\n",
    "    spaces = np.array([])\n",
    "    \n",
    "    #Getting all the unique values inside the list first,\n",
    "    #by stacking all the elemnts in a single row first\n",
    "    uniq = np.hstack(csp)\n",
    "    uniq = np.unique(uniq)\n",
    "    \n",
    "    #looping through all the unique numbers.\n",
    "    for i in range(0, len(uniq)):\n",
    "        # Number to check for\n",
    "        number_to_check = uniq[i]\n",
    "        \n",
    "        \n",
    "        # Initialize a result variable to True\n",
    "        result = True\n",
    "        \n",
    "        # Check if the number exists in all arrays\n",
    "        for arr in csp:\n",
    "            if number_to_check not in arr:\n",
    "                result = False\n",
    "                break\n",
    "        \n",
    "        if result:\n",
    "            spaces = np.append(spaces, number_to_check)\n",
    "    return spaces"
   ]
  },
  {
   "cell_type": "code",
   "execution_count": 37,
   "id": "505515ee",
   "metadata": {},
   "outputs": [],
   "source": [
    "#saving the first position spaces\n",
    "c0space = spaces(c0sp)\n",
    "c0space = c0space.astype(int)\n",
    "\n",
    "#saving the second position spaces\n",
    "c1space = spaces(c1sp)\n",
    "c1space = c1space.astype(int)\n",
    "\n",
    "#saving the third position spaces\n",
    "c2space = spaces(c2sp)\n",
    "c2space = c2space.astype(int)\n",
    "\n",
    "#saving the fourth position spaces\n",
    "c3space = spaces(c3sp)\n",
    "c3space = c3space.astype(int)\n",
    "\n",
    "#saving the fifth position spaces\n",
    "c4space = spaces(c4sp)\n",
    "c4space = c4space.astype(int)\n",
    "\n",
    "#saving the 6th position spaces\n",
    "c5space = spaces(c5sp)\n",
    "c5space = c5space.astype(int)"
   ]
  },
  {
   "cell_type": "markdown",
   "id": "80c72fb9",
   "metadata": {},
   "source": [
    "### Now getting part of the key:"
   ]
  },
  {
   "cell_type": "markdown",
   "id": "c4d33f49",
   "metadata": {},
   "source": [
    "The Idea here is to get parts of the key by xoring the position of the spaces we got, with the '20' the space in hexa"
   ]
  },
  {
   "cell_type": "markdown",
   "id": "98c6a071",
   "metadata": {},
   "source": [
    "##### The positions of the spaces:"
   ]
  },
  {
   "cell_type": "markdown",
   "id": "8ffdd2a2",
   "metadata": {},
   "source": [
    "array([ 6., 12., 22., 30., 38., 44.])\n",
    "array([ 6., 14., 22., 28., 38., 44.])\n",
    "array([ 6.,  8., 12., 22., 36., 38., 44.])\n",
    "array([ 6., 10., 14., 22., 30., 38., 40., 44., 46., 48., 52.])\n",
    "array([ 6., 12., 22., 38., 44., 48.])\n",
    "array([ 2.,  6., 14., 22., 26., 38., 40., 44.])\n",
    "​"
   ]
  },
  {
   "cell_type": "code",
   "execution_count": 157,
   "id": "8684e1a9",
   "metadata": {},
   "outputs": [],
   "source": [
    "#This function takes the cypher texts, the space positions, key and the index of the cypher texts.\n",
    "def keyValues(c, csp, key, index):\n",
    "    \n",
    "    #looping through the values of the spaces position.\n",
    "    for i in range(0, len(csp)):\n",
    "        \n",
    "        #Getting the values from the cypher text\n",
    "        x = c[index][csp[i]: csp[i] + 2]\n",
    "        \n",
    "        #Xoring with the space in hexa.\n",
    "        y = XOR(x, '20')\n",
    "        \n",
    "        #adding a zero if the first value of x is a 2\n",
    "        if(x[0] == '2'):\n",
    "            y = '0' + y\n",
    "        \n",
    "        #setting the values according to the porsitions.\n",
    "        key[csp[i]] = y[0]\n",
    "        key[csp[i] + 1] = y[1]\n",
    "        \n",
    "    return key"
   ]
  },
  {
   "cell_type": "code",
   "execution_count": 158,
   "id": "fc69d9ca",
   "metadata": {},
   "outputs": [],
   "source": [
    "#Initializing the key.\n",
    "key = np.zeros(58, dtype = '<U2')"
   ]
  },
  {
   "cell_type": "code",
   "execution_count": 159,
   "id": "3410113c",
   "metadata": {},
   "outputs": [],
   "source": [
    "#Now sending the spaces posistions to get the info of the key.\n",
    "key = keyValues(c, c0space, key, 0)\n",
    "key = keyValues(c, c1space, key, 1)\n",
    "key = keyValues(c, c2space, key, 2)\n",
    "key = keyValues(c, c3space, key, 3)\n",
    "key = keyValues(c, c4space, key, 4)\n",
    "key = keyValues(c, c5space, key, 5)"
   ]
  },
  {
   "cell_type": "markdown",
   "id": "a67ea3e2",
   "metadata": {},
   "source": [
    "#### Values of the key after getting the spaces"
   ]
  },
  {
   "cell_type": "code",
   "execution_count": 160,
   "id": "9b8fcbc5",
   "metadata": {},
   "outputs": [
    {
     "data": {
      "text/plain": [
       "array(['', '', '3', '0', '', '', 'C', '2', '1', '3', '5', 'F', '0', '7',\n",
       "       '0', '2', '', '', '', '', '', '', '2', '3', '', '', '1', '8', '8',\n",
       "       '8', '9', '6', '', '', '', '', '0', '7', 'C', 'C', '6', '0', '',\n",
       "       '', '7', 'A', 'E', 'C', '7', 'F', '', '', 'C', 'A', '', '', '', ''],\n",
       "      dtype='<U2')"
      ]
     },
     "execution_count": 160,
     "metadata": {},
     "output_type": "execute_result"
    }
   ],
   "source": [
    "key"
   ]
  },
  {
   "cell_type": "markdown",
   "id": "452596d3",
   "metadata": {},
   "source": [
    "### Now xor'ing the values of the key we got with each cypher text"
   ]
  },
  {
   "cell_type": "markdown",
   "id": "0e550464",
   "metadata": {},
   "source": [
    "By doing this we will be able to get a sight of each of the real messeges, and the rest can be guessed."
   ]
  },
  {
   "cell_type": "code",
   "execution_count": 493,
   "id": "ad4a97af",
   "metadata": {},
   "outputs": [],
   "source": [
    "def messagebreak(c, m, key, index):\n",
    "    for i in range(len(key)):\n",
    "        if(key[i] != ''):\n",
    "            x = XOR(key[i], c[index][i])\n",
    "            m[i] = x\n",
    "    return m"
   ]
  },
  {
   "cell_type": "code",
   "execution_count": 494,
   "id": "11c8f69c",
   "metadata": {},
   "outputs": [],
   "source": [
    "#Initializing the messages to zeros\n",
    "message0 = np.zeros(58, dtype = '<U2')\n",
    "message1 = np.zeros(58, dtype = '<U2')\n",
    "message2 = np.zeros(58, dtype = '<U2')\n",
    "message3 = np.zeros(58, dtype = '<U2')\n",
    "message4 = np.zeros(58, dtype = '<U2')\n",
    "message5 = np.zeros(58, dtype = '<U2')"
   ]
  },
  {
   "cell_type": "code",
   "execution_count": 495,
   "id": "407cd11d",
   "metadata": {},
   "outputs": [],
   "source": [
    "#Now getting the messages according to the part of the key values w got.\n",
    "message0 = messagebreak(c, message0, key, 0)\n",
    "message1 = messagebreak(c, message1, key, 1)\n",
    "message2 = messagebreak(c, message2, key, 2)\n",
    "message3 = messagebreak(c, message3, key, 3)\n",
    "message4 = messagebreak(c, message4, key, 4)\n",
    "message5 = messagebreak(c, message5, key, 5)"
   ]
  },
  {
   "cell_type": "markdown",
   "id": "8c8845eb",
   "metadata": {},
   "source": [
    "#### The messages in hexadecimals"
   ]
  },
  {
   "cell_type": "code",
   "execution_count": 496,
   "id": "ac83f076",
   "metadata": {},
   "outputs": [],
   "source": [
    "def realmessage(message, mnew):\n",
    "    for i in range(0, 29):\n",
    "        if(message[i*2] != ''):\n",
    "            hexa = message[i*2] + message[(i*2) + 1]\n",
    "            # Convert the hexadecimal values to integers\n",
    "            int_value = int(hexa, 16)\n",
    "            \n",
    "            # Use the integers to convert to characters\n",
    "            char = chr(int_value)\n",
    "            \n",
    "            #checking if the char is a real char or space then add it\n",
    "            if((char.isalpha()) or (char.isspace())):\n",
    "                #add the value\n",
    "                mnew[i] = char\n",
    "        else:\n",
    "            mnew[i] = '-'\n",
    "    return mnew"
   ]
  },
  {
   "cell_type": "code",
   "execution_count": 497,
   "id": "3248ca50",
   "metadata": {},
   "outputs": [],
   "source": [
    "m0 = np.zeros(29, dtype = '<U2')\n",
    "m1 = np.zeros(29, dtype = '<U2')\n",
    "m2 = np.zeros(29, dtype = '<U2')\n",
    "m3 = np.zeros(29, dtype = '<U2')\n",
    "m4 = np.zeros(29, dtype = '<U2')\n",
    "m5 = np.zeros(29, dtype = '<U2')"
   ]
  },
  {
   "cell_type": "code",
   "execution_count": 498,
   "id": "4933e266",
   "metadata": {},
   "outputs": [],
   "source": [
    "#getting the messages.\n",
    "m0 = realmessage(message0, m0)\n",
    "m0 = ''.join(map(str, m0))\n",
    "\n",
    "m1 = realmessage(message1, m1)\n",
    "m1 = ''.join(map(str, m1))\n",
    "\n",
    "m2 = realmessage(message2, m2)\n",
    "m2 = ''.join(map(str, m2))\n",
    "\n",
    "m3 = realmessage(message3, m3)\n",
    "m3 = ''.join(map(str, m3))\n",
    "\n",
    "m4 = realmessage(message4, m4)\n",
    "m4 = ''.join(map(str, m4))\n",
    "\n",
    "m5 = realmessage(message5, m5)\n",
    "m5 = ''.join(map(str, m5))"
   ]
  },
  {
   "cell_type": "code",
   "execution_count": 499,
   "id": "1a6f4431",
   "metadata": {},
   "outputs": [
    {
     "name": "stdout",
     "output_type": "stream",
     "text": [
      "-u-er o----ns --eed----\n",
      "-s-htwo --- -r a--h n----\n",
      "-e- sec---t-odi-- u- ---\n",
      "-e-r re---t-ne --m  - l- --\n",
      "-p-te y---t-yst--ser- ---\n",
      "- - all --- - se--r  - ---\n"
     ]
    }
   ],
   "source": [
    "#Printing the messages.\n",
    "print(m0)\n",
    "print(m1)\n",
    "print(m2)\n",
    "print(m3)\n",
    "print(m4)\n",
    "print(m5)"
   ]
  },
  {
   "cell_type": "markdown",
   "id": "e1f69306",
   "metadata": {},
   "source": [
    "==========================================================================================================================\n",
    "After getting the messages, it seems like there are some spaces not in the right place, but also there are some words that appears correctly fine, so the next step is trying to geussing what could be the real messages"
   ]
  },
  {
   "cell_type": "markdown",
   "id": "1a303233",
   "metadata": {},
   "source": [
    "# The message can be, after guessing"
   ]
  },
  {
   "cell_type": "markdown",
   "id": "82c45c1f",
   "metadata": {},
   "source": [
    "buffer overruns are dangerous  "
   ]
  },
  {
   "cell_type": "markdown",
   "id": "e094a8fa",
   "metadata": {},
   "source": [
    "use two factor authentication"
   ]
  },
  {
   "cell_type": "markdown",
   "id": "1209af5e",
   "metadata": {},
   "source": [
    "read secure coding guidlines"
   ]
  },
  {
   "cell_type": "markdown",
   "id": "8af30024",
   "metadata": {},
   "source": [
    "never resuse one timepad keys"
   ]
  },
  {
   "cell_type": "markdown",
   "id": "11a840ca",
   "metadata": {},
   "source": [
    "update your systems regularly"
   ]
  },
  {
   "cell_type": "markdown",
   "id": "4c89f5f1",
   "metadata": {},
   "source": [
    "i shall write secure software"
   ]
  },
  {
   "cell_type": "code",
   "execution_count": null,
   "id": "249d8ab7",
   "metadata": {},
   "outputs": [],
   "source": []
  }
 ],
 "metadata": {
  "kernelspec": {
   "display_name": "Python 3 (ipykernel)",
   "language": "python",
   "name": "python3"
  },
  "language_info": {
   "codemirror_mode": {
    "name": "ipython",
    "version": 3
   },
   "file_extension": ".py",
   "mimetype": "text/x-python",
   "name": "python",
   "nbconvert_exporter": "python",
   "pygments_lexer": "ipython3",
   "version": "3.9.13"
  }
 },
 "nbformat": 4,
 "nbformat_minor": 5
}
